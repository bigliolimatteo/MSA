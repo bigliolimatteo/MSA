{
 "cells": [
  {
   "cell_type": "code",
   "execution_count": 15,
   "metadata": {},
   "outputs": [],
   "source": [
    "import pandas as pd\n",
    "import geopandas as gpd\n",
    "from shapely import MultiPoint\n",
    "import itertools\n",
    "import os\n",
    "import shutil\n",
    "import zipfile\n",
    "import subprocess"
   ]
  },
  {
   "cell_type": "code",
   "execution_count": null,
   "metadata": {},
   "outputs": [],
   "source": [
    "milan_buildings_polys = gpd.read_file(\"data/footprints/Milano.shp\").geometry\n",
    "milan_buildings_points = [building.convex_hull.exterior.coords for building in milan_buildings_polys]\n",
    "outer_milan = MultiPoint(list(itertools.chain.from_iterable(milan_buildings_points))).convex_hull.buffer(-1e-9)\n",
    "gpd.GeoDataFrame(pd.DataFrame([{\"id\": \"0\"}]), geometry=[outer_milan],crs=\"EPSG:7791\").to_file(\"data/coverage.shp\")\n",
    "outer_milan"
   ]
  },
  {
   "cell_type": "code",
   "execution_count": null,
   "metadata": {},
   "outputs": [],
   "source": [
    "sample_input_gdf = gpd.read_file(\"data/coverage.shp\").to_crs(\"EPSG:4326\")\n",
    "sample_coverage = list(sample_input_gdf[\"geometry\"])[0]\n",
    "CONTRACT_NUMBER = 145\n",
    "\n",
    "# Specify intersection\n",
    "contract_data = gpd.read_file(f\"metadata/contract_{CONTRACT_NUMBER}/metadata_contract_{CONTRACT_NUMBER}.shp\")\n",
    "\n",
    "def get_intersection_tiles(input_polygon, lidar_coverage):\n",
    "    intersection_array = lidar_coverage.geometry.map(lambda x: x.intersects(input_polygon))\n",
    "    return lidar_coverage[intersection_array][[\"id\", \"region\"]]\n",
    "\n",
    "intersection = get_intersection_tiles(sample_coverage, contract_data)\n",
    "\n",
    "# Copy files from HDD\n",
    "source_path_prefix = \"/Volumes/Seagate Expansion Drive/just_points\"\n",
    "destination_path_prefix = \"data/lidar_points/raw\"\n",
    "\n",
    "def get_point_file_path(region, contract, filename):\n",
    "    return os.path.join(source_path_prefix, region, f\"Contratto_{contract}\", \"PUNTI\", f\"{filename}.zip\")\n",
    "\n",
    "files_to_copy = [get_point_file_path(row[\"region\"], str(CONTRACT_NUMBER), row[\"id\"]) for _, row in intersection.iterrows()]\n",
    "for filepath in files_to_copy:\n",
    "    dst = os.path.join(destination_path_prefix, filepath.split(\"/\")[-1])\n",
    "    os.makedirs(os.path.dirname(dst), exist_ok=True)\n",
    "    shutil.copy(filepath, dst)\n",
    "\n",
    "# Extract Zips\n",
    "for filename in os.listdir(destination_path_prefix):  \n",
    "    filepath = os.path.join(destination_path_prefix, filename)\n",
    "    if zipfile.is_zipfile(filepath):\n",
    "        with zipfile.ZipFile(filepath) as item:\n",
    "           item.extractall(destination_path_prefix) \n",
    "\n",
    "# Remove Zips\n",
    "for filename in os.listdir(destination_path_prefix): \n",
    "    if filename.endswith(\"zip\"):\n",
    "        os.remove(os.path.join(destination_path_prefix, filename))\n"
   ]
  },
  {
   "cell_type": "code",
   "execution_count": 17,
   "metadata": {},
   "outputs": [],
   "source": [
    "footprints_raw = gpd.read_file(\"data/footprints/Milano.shp\").to_crs(\"EPSG:4326\")\n",
    "coverage_140 = gpd.read_file(\"metadata/contract_140/metadata_contract_140.shp\")\n",
    "coverage_145 = gpd.read_file(\"metadata/contract_145/metadata_contract_145.shp\")\n",
    "\n",
    "def prepare_points(points_filename):\n",
    "    points = pd.read_csv(f\"data/lidar_points/{points_filename}.xyz\", names=[\"long\",\"lat\",\"elevation\",\"_1\",\"_2\"], delim_whitespace=True)\n",
    "    points = points[[\"long\",\"lat\", \"elevation\"]].rename(columns={'lat': 'x', 'long': 'y', 'elevation': 'z'})\n",
    "    points.insert(0, 'id', range(0, len(points)))\n",
    "    path = f\"data/tmp/points_{points_filename}.csv\"\n",
    "    points.to_csv(path, index=False)\n",
    "    return path\n",
    "\n",
    "def prepare_footprints(points_filename):\n",
    "    coverage_tiles_140 = list(coverage_140[coverage_140[\"id\"] == points_filename].geometry)\n",
    "    coverage_tiles_145 = list(coverage_145[coverage_145[\"id\"] == points_filename].geometry)\n",
    "    \n",
    "    coverage_tile = coverage_tiles_140[0] if coverage_tiles_140 else coverage_tiles_145[0]\n",
    "    footprints_intersection = footprints_raw.geometry.map(lambda x: x.intersects(coverage_tile))\n",
    "    footprints = footprints_raw[footprints_intersection][[\"OBJECTID\", \"edifc_stat\", \"edifc_ty\", \"edifc_uso\", \"geometry\"]]\\\n",
    "        .rename(columns={'OBJECTID': 'id'})\n",
    "    path = f\"data/tmp/footprints_{points_filename}.csv\"\n",
    "    footprints.to_csv(path, index=False)\n",
    "    return path"
   ]
  },
  {
   "cell_type": "code",
   "execution_count": 20,
   "metadata": {},
   "outputs": [
    {
     "name": "stdout",
     "output_type": "stream",
     "text": [
      "D45420917_0101_Punti\n",
      "1e4d22617eac5881dd36bff6b35a59ad1a04c7ba0232029545031c54a2710f31\n",
      "CREATE TABLE\n",
      "CREATE TABLE\n",
      "COPY 1679045\n",
      "UPDATE 1679045\n",
      "COPY 283\n",
      "UPDATE 283\n",
      "UPDATE 283\n",
      "COPY 283\n",
      "skynet\n",
      "skynet\n"
     ]
    }
   ],
   "source": [
    "#for filename in os.listdir(\"data/lidar_points/\"):\n",
    "for filename in ['D45420917_0101_Punti.xyz']:\n",
    "    points_filename = filename[:-4]\n",
    "    print(points_filename)\n",
    "    points_path = prepare_points(points_filename)\n",
    "    footprints_path = prepare_footprints(points_filename)\n",
    "    output_path = f\"data/postgis_output/{points_filename}.csv\"\n",
    "    os.system(f\"./postgis_processing.sh {points_path} {footprints_path} {output_path}\")\n",
    "    os.remove(footprints_path)\n",
    "    os.remove(points_path)"
   ]
  },
  {
   "cell_type": "code",
   "execution_count": null,
   "metadata": {},
   "outputs": [],
   "source": []
  }
 ],
 "metadata": {
  "kernelspec": {
   "display_name": ".venv",
   "language": "python",
   "name": "python3"
  },
  "language_info": {
   "codemirror_mode": {
    "name": "ipython",
    "version": 3
   },
   "file_extension": ".py",
   "mimetype": "text/x-python",
   "name": "python",
   "nbconvert_exporter": "python",
   "pygments_lexer": "ipython3",
   "version": "3.10.9"
  },
  "orig_nbformat": 4,
  "vscode": {
   "interpreter": {
    "hash": "d506b227a3c59d6de1745325b7f893f27654647f30ac90ae78bcfba722100e86"
   }
  }
 },
 "nbformat": 4,
 "nbformat_minor": 2
}
