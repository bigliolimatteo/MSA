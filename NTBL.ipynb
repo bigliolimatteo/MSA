{
 "cells": [
  {
   "cell_type": "code",
   "execution_count": 1,
   "metadata": {},
   "outputs": [],
   "source": [
    "import pandas as pd\n",
    "import geopandas as gpd\n",
    "from shapely import MultiPoint\n",
    "import itertools\n",
    "import os\n",
    "import shutil\n",
    "import zipfile\n",
    "import subprocess"
   ]
  },
  {
   "cell_type": "code",
   "execution_count": 2,
   "metadata": {},
   "outputs": [
    {
     "ename": "KeyboardInterrupt",
     "evalue": "",
     "output_type": "error",
     "traceback": [
      "\u001b[0;31m---------------------------------------------------------------------------\u001b[0m",
      "\u001b[0;31mKeyboardInterrupt\u001b[0m                         Traceback (most recent call last)",
      "Cell \u001b[0;32mIn[2], line 1\u001b[0m\n\u001b[0;32m----> 1\u001b[0m milan_buildings_polys \u001b[39m=\u001b[39m gpd\u001b[39m.\u001b[39;49mread_file(\u001b[39m\"\u001b[39;49m\u001b[39mdata/footprints/Milano.shp\u001b[39;49m\u001b[39m\"\u001b[39;49m)\u001b[39m.\u001b[39mgeometry\n\u001b[1;32m      2\u001b[0m milan_buildings_points \u001b[39m=\u001b[39m [building\u001b[39m.\u001b[39mconvex_hull\u001b[39m.\u001b[39mexterior\u001b[39m.\u001b[39mcoords \u001b[39mfor\u001b[39;00m building \u001b[39min\u001b[39;00m milan_buildings_polys]\n\u001b[1;32m      3\u001b[0m outer_milan \u001b[39m=\u001b[39m MultiPoint(\u001b[39mlist\u001b[39m(itertools\u001b[39m.\u001b[39mchain\u001b[39m.\u001b[39mfrom_iterable(milan_buildings_points)))\u001b[39m.\u001b[39mconvex_hull\u001b[39m.\u001b[39mbuffer(\u001b[39m-\u001b[39m\u001b[39m1e-9\u001b[39m)\n",
      "File \u001b[0;32m~/Documents/university/dse/statistical_methods_for_machine_learning/MSA/.venv/lib/python3.10/site-packages/geopandas/io/file.py:259\u001b[0m, in \u001b[0;36m_read_file\u001b[0;34m(filename, bbox, mask, rows, engine, **kwargs)\u001b[0m\n\u001b[1;32m    256\u001b[0m     path_or_bytes \u001b[39m=\u001b[39m filename\n\u001b[1;32m    258\u001b[0m \u001b[39mif\u001b[39;00m engine \u001b[39m==\u001b[39m \u001b[39m\"\u001b[39m\u001b[39mfiona\u001b[39m\u001b[39m\"\u001b[39m:\n\u001b[0;32m--> 259\u001b[0m     \u001b[39mreturn\u001b[39;00m _read_file_fiona(\n\u001b[1;32m    260\u001b[0m         path_or_bytes, from_bytes, bbox\u001b[39m=\u001b[39;49mbbox, mask\u001b[39m=\u001b[39;49mmask, rows\u001b[39m=\u001b[39;49mrows, \u001b[39m*\u001b[39;49m\u001b[39m*\u001b[39;49mkwargs\n\u001b[1;32m    261\u001b[0m     )\n\u001b[1;32m    262\u001b[0m \u001b[39melif\u001b[39;00m engine \u001b[39m==\u001b[39m \u001b[39m\"\u001b[39m\u001b[39mpyogrio\u001b[39m\u001b[39m\"\u001b[39m:\n\u001b[1;32m    263\u001b[0m     \u001b[39mreturn\u001b[39;00m _read_file_pyogrio(\n\u001b[1;32m    264\u001b[0m         path_or_bytes, bbox\u001b[39m=\u001b[39mbbox, mask\u001b[39m=\u001b[39mmask, rows\u001b[39m=\u001b[39mrows, \u001b[39m*\u001b[39m\u001b[39m*\u001b[39mkwargs\n\u001b[1;32m    265\u001b[0m     )\n",
      "File \u001b[0;32m~/Documents/university/dse/statistical_methods_for_machine_learning/MSA/.venv/lib/python3.10/site-packages/geopandas/io/file.py:360\u001b[0m, in \u001b[0;36m_read_file_fiona\u001b[0;34m(path_or_bytes, from_bytes, bbox, mask, rows, where, **kwargs)\u001b[0m\n\u001b[1;32m    356\u001b[0m     df \u001b[39m=\u001b[39m pd\u001b[39m.\u001b[39mDataFrame(\n\u001b[1;32m    357\u001b[0m         [record[\u001b[39m\"\u001b[39m\u001b[39mproperties\u001b[39m\u001b[39m\"\u001b[39m] \u001b[39mfor\u001b[39;00m record \u001b[39min\u001b[39;00m f_filt], columns\u001b[39m=\u001b[39mcolumns\n\u001b[1;32m    358\u001b[0m     )\n\u001b[1;32m    359\u001b[0m \u001b[39melse\u001b[39;00m:\n\u001b[0;32m--> 360\u001b[0m     df \u001b[39m=\u001b[39m GeoDataFrame\u001b[39m.\u001b[39;49mfrom_features(\n\u001b[1;32m    361\u001b[0m         f_filt, crs\u001b[39m=\u001b[39;49mcrs, columns\u001b[39m=\u001b[39;49mcolumns \u001b[39m+\u001b[39;49m [\u001b[39m\"\u001b[39;49m\u001b[39mgeometry\u001b[39;49m\u001b[39m\"\u001b[39;49m]\n\u001b[1;32m    362\u001b[0m     )\n\u001b[1;32m    363\u001b[0m \u001b[39mfor\u001b[39;00m k \u001b[39min\u001b[39;00m datetime_fields:\n\u001b[1;32m    364\u001b[0m     as_dt \u001b[39m=\u001b[39m pd\u001b[39m.\u001b[39mto_datetime(df[k], errors\u001b[39m=\u001b[39m\u001b[39m\"\u001b[39m\u001b[39mignore\u001b[39m\u001b[39m\"\u001b[39m)\n",
      "File \u001b[0;32m~/Documents/university/dse/statistical_methods_for_machine_learning/MSA/.venv/lib/python3.10/site-packages/geopandas/geodataframe.py:632\u001b[0m, in \u001b[0;36mGeoDataFrame.from_features\u001b[0;34m(cls, features, crs, columns)\u001b[0m\n\u001b[1;32m    629\u001b[0m rows \u001b[39m=\u001b[39m []\n\u001b[1;32m    630\u001b[0m \u001b[39mfor\u001b[39;00m feature \u001b[39min\u001b[39;00m features_lst:\n\u001b[1;32m    631\u001b[0m     \u001b[39m# load geometry\u001b[39;00m\n\u001b[0;32m--> 632\u001b[0m     \u001b[39mif\u001b[39;00m \u001b[39mhasattr\u001b[39;49m(feature, \u001b[39m\"\u001b[39;49m\u001b[39m__geo_interface__\u001b[39;49m\u001b[39m\"\u001b[39;49m):\n\u001b[1;32m    633\u001b[0m         feature \u001b[39m=\u001b[39m feature\u001b[39m.\u001b[39m__geo_interface__\n\u001b[1;32m    634\u001b[0m     row \u001b[39m=\u001b[39m {\n\u001b[1;32m    635\u001b[0m         \u001b[39m\"\u001b[39m\u001b[39mgeometry\u001b[39m\u001b[39m\"\u001b[39m: shape(feature[\u001b[39m\"\u001b[39m\u001b[39mgeometry\u001b[39m\u001b[39m\"\u001b[39m]) \u001b[39mif\u001b[39;00m feature[\u001b[39m\"\u001b[39m\u001b[39mgeometry\u001b[39m\u001b[39m\"\u001b[39m] \u001b[39melse\u001b[39;00m \u001b[39mNone\u001b[39;00m\n\u001b[1;32m    636\u001b[0m     }\n",
      "\u001b[0;31mKeyboardInterrupt\u001b[0m: "
     ]
    }
   ],
   "source": [
    "milan_buildings_polys = gpd.read_file(\"data/footprints/Milano.shp\").geometry\n",
    "milan_buildings_points = [building.convex_hull.exterior.coords for building in milan_buildings_polys]\n",
    "outer_milan = MultiPoint(list(itertools.chain.from_iterable(milan_buildings_points))).convex_hull.buffer(-1e-9)\n",
    "gpd.GeoDataFrame(pd.DataFrame([{\"id\": \"0\"}]), geometry=[outer_milan],crs=\"EPSG:7791\").to_file(\"data/coverage.shp\")\n",
    "outer_milan"
   ]
  },
  {
   "cell_type": "code",
   "execution_count": 46,
   "metadata": {},
   "outputs": [],
   "source": [
    "sample_input_gdf = gpd.read_file(\"data/coverage.shp\").to_crs(\"EPSG:4326\")\n",
    "sample_coverage = list(sample_input_gdf[\"geometry\"])[0]\n",
    "CONTRACT_NUMBER = 145\n",
    "\n",
    "# Specify intersection\n",
    "contract_data = gpd.read_file(f\"metadata/contract_{CONTRACT_NUMBER}/metadata_contract_{CONTRACT_NUMBER}.shp\")\n",
    "\n",
    "def get_intersection_tiles(input_polygon, lidar_coverage):\n",
    "    intersection_array = lidar_coverage.geometry.map(lambda x: x.intersects(input_polygon))\n",
    "    return lidar_coverage[intersection_array][[\"id\", \"region\"]]\n",
    "\n",
    "intersection = get_intersection_tiles(sample_coverage, contract_data)\n",
    "\n",
    "# Copy files from HDD\n",
    "source_path_prefix = \"/Volumes/Seagate Expansion Drive/just_points\"\n",
    "destination_path_prefix = \"data/lidar_points/raw\"\n",
    "\n",
    "def get_point_file_path(region, contract, filename):\n",
    "    return os.path.join(source_path_prefix, region, f\"Contratto_{contract}\", \"PUNTI\", f\"{filename}.zip\")\n",
    "\n",
    "files_to_copy = [get_point_file_path(row[\"region\"], str(CONTRACT_NUMBER), row[\"id\"]) for _, row in intersection.iterrows()]\n",
    "for filepath in files_to_copy:\n",
    "    dst = os.path.join(destination_path_prefix, filepath.split(\"/\")[-1])\n",
    "    os.makedirs(os.path.dirname(dst), exist_ok=True)\n",
    "    shutil.copy(filepath, dst)\n",
    "\n",
    "# Extract Zips\n",
    "for filename in os.listdir(destination_path_prefix):  \n",
    "    filepath = os.path.join(destination_path_prefix, filename)\n",
    "    if zipfile.is_zipfile(filepath):\n",
    "        with zipfile.ZipFile(filepath) as item:\n",
    "           item.extractall(destination_path_prefix) \n",
    "\n",
    "# Remove Zips\n",
    "for filename in os.listdir(destination_path_prefix): \n",
    "    if filename.endswith(\"zip\"):\n",
    "        os.remove(os.path.join(destination_path_prefix, filename))\n"
   ]
  },
  {
   "cell_type": "code",
   "execution_count": 2,
   "metadata": {},
   "outputs": [],
   "source": [
    "footprints_raw = gpd.read_file(\"data/footprints/Milano.shp\").to_crs(\"EPSG:4326\")\n",
    "coverage_140 = gpd.read_file(\"metadata/contract_140/metadata_contract_140.shp\")\n",
    "coverage_145 = gpd.read_file(\"metadata/contract_145/metadata_contract_145.shp\")\n",
    "\n",
    "def prepare_points(points_filename):\n",
    "    points = pd.read_csv(f\"data/lidar_points/{points_filename}.xyz\", names=[\"long\",\"lat\",\"elevation\",\"_1\",\"_2\"], delim_whitespace=True)\n",
    "    points = points[[\"long\",\"lat\"]].rename(columns={'lat': 'x', 'long': 'y'})\n",
    "    points.insert(0, 'id', range(0, len(points)))\n",
    "    path = f\"data/tmp/points_{points_filename}.csv\"\n",
    "    points.to_csv(path, index=False)\n",
    "    return path\n",
    "\n",
    "def prepare_footprints(points_filename):\n",
    "    coverage_tiles_140 = list(coverage_140[coverage_140[\"id\"] == points_filename].geometry)\n",
    "    coverage_tiles_145 = list(coverage_145[coverage_145[\"id\"] == points_filename].geometry)\n",
    "    \n",
    "    coverage_tile = coverage_tiles_140[0] if coverage_tiles_140 else coverage_tiles_145[0]\n",
    "    footprints_intersection = footprints_raw.geometry.map(lambda x: x.intersects(coverage_tile))\n",
    "    footprints = footprints_raw[footprints_intersection][[\"OBJECTID\", \"geometry\"]].rename(columns={'OBJECTID': 'id'})\n",
    "    path = f\"data/tmp/footprints_{points_filename}.csv\"\n",
    "    footprints.to_csv(path, index=False)\n",
    "    return path"
   ]
  },
  {
   "cell_type": "code",
   "execution_count": 3,
   "metadata": {},
   "outputs": [
    {
     "name": "stdout",
     "output_type": "stream",
     "text": [
      "D45440915_0101_Punti\n",
      "6ab4cd224f255ac18d18529d7c2c2adca7b9453a39c1ff31edc9a45001b8a3c2\n",
      "CREATE TABLE\n",
      "CREATE TABLE\n",
      "COPY 1691380\n",
      "UPDATE 1691380\n",
      "COPY 566\n",
      "UPDATE 566\n",
      "UPDATE 566\n",
      "COPY 566\n",
      "skynet\n",
      "skynet\n",
      "D45500925_0101_Punti\n",
      "9d0a770364d22b964a34b89568c007d5d2808a2e963136af6b4ec5e1f76ec6b5\n",
      "CREATE TABLE\n",
      "CREATE TABLE\n",
      "COPY 1576950\n",
      "UPDATE 1576950\n",
      "COPY 113\n",
      "UPDATE 113\n",
      "UPDATE 113\n",
      "COPY 113\n",
      "skynet\n",
      "skynet\n",
      "D45470914_0101_Punti\n",
      "888d147ba30065d4f95d7d3f03cec51189801f2148d9a0d6f254ffd52ec9a89a\n",
      "CREATE TABLE\n",
      "CREATE TABLE\n",
      "COPY 1742151\n",
      "UPDATE 1742151\n",
      "COPY 981\n",
      "UPDATE 981\n",
      "UPDATE 981\n",
      "COPY 981\n",
      "skynet\n",
      "skynet\n",
      "D45420917_0101_Punti\n",
      "62c5ed36eade947ac759de3a7c77f9b54543de784ba6f3f6cf1fd52a298816f2\n",
      "CREATE TABLE\n",
      "CREATE TABLE\n",
      "COPY 1679045\n",
      "UPDATE 1679045\n",
      "COPY 283\n",
      "UPDATE 283\n",
      "UPDATE 283\n",
      "COPY 283\n",
      "skynet\n",
      "skynet\n",
      "D45490915_0101_Punti\n",
      "2b92dbda0217bc51daa23344e1b514a4f1a776a4073848a04b9b7517ca8fe54b\n",
      "CREATE TABLE\n",
      "CREATE TABLE\n",
      "COPY 1732238\n",
      "UPDATE 1732238\n",
      "COPY 575\n",
      "UPDATE 575\n",
      "UPDATE 575\n"
     ]
    }
   ],
   "source": [
    "for filename in os.listdir(\"data/lidar_points/\"):\n",
    "    points_filename = filename[:-4]\n",
    "    print(points_filename)\n",
    "    points_path = prepare_points(points_filename)\n",
    "    footprints_path = prepare_footprints(points_filename)\n",
    "    output_path = f\"data/postgis_output/{points_filename}.csv\"\n",
    "    os.system(f\"./postgis_processing.sh {points_path} {footprints_path} {output_path}\")\n",
    "    os.remove(footprints_path)\n",
    "    os.remove(points_path)\n"
   ]
  },
  {
   "cell_type": "code",
   "execution_count": null,
   "metadata": {},
   "outputs": [],
   "source": []
  }
 ],
 "metadata": {
  "kernelspec": {
   "display_name": ".venv",
   "language": "python",
   "name": "python3"
  },
  "language_info": {
   "codemirror_mode": {
    "name": "ipython",
    "version": 3
   },
   "file_extension": ".py",
   "mimetype": "text/x-python",
   "name": "python",
   "nbconvert_exporter": "python",
   "pygments_lexer": "ipython3",
   "version": "3.10.9"
  },
  "orig_nbformat": 4,
  "vscode": {
   "interpreter": {
    "hash": "d506b227a3c59d6de1745325b7f893f27654647f30ac90ae78bcfba722100e86"
   }
  }
 },
 "nbformat": 4,
 "nbformat_minor": 2
}
